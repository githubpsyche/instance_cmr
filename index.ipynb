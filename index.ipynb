{
 "cells": [
  {
   "cell_type": "markdown",
   "metadata": {},
   "source": [
    "In retrieved-context accounts of memory search like the Context Maintenance and Retrieval (CMR) model [@polyn2009context], representations of studied items in a free recall experiment are associated with states of an internal representation of temporal context that slowly evolves across the study period. \n",
    "These mechanisms enable models to account for organizational effects in recall sequences, such as the tendency for related items to be recalled successively. \n",
    "Retrieved context models tend to specify these dynamics in terms of a simplified neural network, as building a single prototypical pattern of associations between each item and context (and vice versa) across experiences. \n",
    "By contrast, models of categorization and other memory phenomena have increasingly converged on instance-based architectures [@hintzman1984minerva] that conceptualize memory as a stack of trace vectors that each represent discrete experiences and support recall through parallel, nonlinear activation based on similarity to a probe. \n",
    "To investigate the consequences of this distinction, we present an instance-based specification of CMR that encodes associations between studied items and context by instantiating memory traces corresponding to each experience and drives recall through context-based coactivation of those traces. \n",
    "We analyze the model's ability to account for traditional phenomena that have been used as support for the original prototypical specification of CMR, evaluate conditions under which the specifications might behave differently, and explore the model's capacity for integration with existing instance-based models to elucidate a broader collection of memory phenomena."
   ]
  }
 ],
 "metadata": {
  "interpreter": {
   "hash": "ecf5722fdaf1897a315d257d89d94520bfcaa453217d5becf09b39e73618b0de"
  },
  "kernelspec": {
   "display_name": "Python 3 (ipykernel)",
   "language": "python",
   "name": "python3"
  },
  "language_info": {
   "codemirror_mode": {
    "name": "ipython",
    "version": 3
   },
   "file_extension": ".py",
   "mimetype": "text/x-python",
   "name": "python",
   "nbconvert_exporter": "python",
   "pygments_lexer": "ipython3",
   "version": "3.9.1"
  }
 },
 "nbformat": 4,
 "nbformat_minor": 4
}
